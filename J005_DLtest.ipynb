{
  "nbformat": 4,
  "nbformat_minor": 0,
  "metadata": {
    "colab": {
      "name": "J005_DLtest.ipynb",
      "provenance": [],
      "include_colab_link": true
    },
    "kernelspec": {
      "name": "python3",
      "display_name": "Python 3"
    }
  },
  "cells": [
    {
      "cell_type": "markdown",
      "metadata": {
        "id": "view-in-github",
        "colab_type": "text"
      },
      "source": [
        "<a href=\"https://colab.research.google.com/github/harshbhabhera/Deep-Learning/blob/master/J005_DLtest.ipynb\" target=\"_parent\"><img src=\"https://colab.research.google.com/assets/colab-badge.svg\" alt=\"Open In Colab\"/></a>"
      ]
    },
    {
      "cell_type": "code",
      "metadata": {
        "id": "6d6810SHiyQi",
        "colab_type": "code",
        "colab": {}
      },
      "source": [
        "import keras\n",
        "from keras import models\n",
        "from keras.layers import Dense, Dropout\n",
        "from keras.utils import to_categorical\n",
        "from keras.datasets import fashion_mnist\n",
        "from keras.utils.vis_utils import model_to_dot\n",
        "from IPython.display import SVG"
      ],
      "execution_count": 0,
      "outputs": []
    },
    {
      "cell_type": "code",
      "metadata": {
        "id": "rvp5YVCci8sQ",
        "colab_type": "code",
        "colab": {}
      },
      "source": [
        "NUM_ROWS = 28\n",
        "NUM_COLS = 28\n",
        "NUM_CLASSES = 10\n",
        "BATCH_SIZE = 128\n",
        "EPOCHS = 10"
      ],
      "execution_count": 0,
      "outputs": []
    },
    {
      "cell_type": "code",
      "metadata": {
        "id": "XW3xH61ki_B0",
        "colab_type": "code",
        "colab": {}
      },
      "source": [
        "(X_train, y_train), (X_test, y_test) = fashion_mnist.load_data()"
      ],
      "execution_count": 0,
      "outputs": []
    },
    {
      "cell_type": "code",
      "metadata": {
        "id": "FNg0iUeSjKJc",
        "colab_type": "code",
        "colab": {}
      },
      "source": [
        "X_train = X_train.reshape((X_train.shape[0], NUM_ROWS * NUM_COLS))\n",
        "X_train = X_train.astype('float32') / 255\n",
        "X_test = X_test.reshape((X_test.shape[0], NUM_ROWS * NUM_COLS))\n",
        "X_test = X_test.astype('float32') / 255"
      ],
      "execution_count": 0,
      "outputs": []
    },
    {
      "cell_type": "code",
      "metadata": {
        "id": "pLgKfBuZjVMf",
        "colab_type": "code",
        "colab": {}
      },
      "source": [
        "y_train = to_categorical(y_train, NUM_CLASSES)\n",
        "y_test = to_categorical(y_test, NUM_CLASSES)"
      ],
      "execution_count": 0,
      "outputs": []
    },
    {
      "cell_type": "code",
      "metadata": {
        "id": "tmL1NKXQjYNM",
        "colab_type": "code",
        "colab": {}
      },
      "source": [
        "model = models.Sequential()\n",
        "model.add(Dense(512, activation='relu', input_shape=(NUM_ROWS * NUM_COLS,)))\n",
        "model.add(Dense(256, activation='relu'))\n",
        "model.add(Dense(10, activation='softmax'))"
      ],
      "execution_count": 0,
      "outputs": []
    },
    {
      "cell_type": "code",
      "metadata": {
        "id": "rWUtqt_mjaH-",
        "colab_type": "code",
        "colab": {}
      },
      "source": [
        "model.compile(optimizer='rmsprop',\n",
        "              loss='categorical_crossentropy',\n",
        "              metrics=['accuracy'])"
      ],
      "execution_count": 0,
      "outputs": []
    },
    {
      "cell_type": "code",
      "metadata": {
        "id": "TOkk7xrOjcvI",
        "colab_type": "code",
        "outputId": "8d4ca37b-d53b-49e2-9133-71284a0460c6",
        "colab": {
          "base_uri": "https://localhost:8080/",
          "height": 1000
        }
      },
      "source": [
        "model.fit(X_train, y_train,\n",
        "          batch_size=BATCH_SIZE,\n",
        "          epochs=EPOCHS,\n",
        "          verbose=1,\n",
        "          validation_data=(X_test, y_test))\n",
        "\n",
        "score = model.evaluate(X_test, y_test, verbose=0)\n",
        "print('Test loss:', score[0])\n",
        "print('Test accuracy:', score[1])"
      ],
      "execution_count": 0,
      "outputs": [
        {
          "output_type": "stream",
          "text": [
            "Train on 60000 samples, validate on 10000 samples\n",
            "Epoch 1/30\n",
            "60000/60000 [==============================] - 5s 89us/step - loss: 0.5544 - acc: 0.7975 - val_loss: 0.4330 - val_acc: 0.8414\n",
            "Epoch 2/30\n",
            "60000/60000 [==============================] - 5s 80us/step - loss: 0.3769 - acc: 0.8610 - val_loss: 0.3882 - val_acc: 0.8572\n",
            "Epoch 3/30\n",
            "60000/60000 [==============================] - 5s 79us/step - loss: 0.3366 - acc: 0.8765 - val_loss: 0.3922 - val_acc: 0.8554\n",
            "Epoch 4/30\n",
            "60000/60000 [==============================] - 5s 78us/step - loss: 0.3090 - acc: 0.8857 - val_loss: 0.3492 - val_acc: 0.8754\n",
            "Epoch 5/30\n",
            "60000/60000 [==============================] - 5s 79us/step - loss: 0.2899 - acc: 0.8927 - val_loss: 0.3516 - val_acc: 0.8766\n",
            "Epoch 6/30\n",
            "60000/60000 [==============================] - 5s 79us/step - loss: 0.2764 - acc: 0.8981 - val_loss: 0.3442 - val_acc: 0.8837\n",
            "Epoch 7/30\n",
            "60000/60000 [==============================] - 5s 80us/step - loss: 0.2640 - acc: 0.9019 - val_loss: 0.3403 - val_acc: 0.8790\n",
            "Epoch 8/30\n",
            "60000/60000 [==============================] - 5s 81us/step - loss: 0.2515 - acc: 0.9053 - val_loss: 0.3714 - val_acc: 0.8751\n",
            "Epoch 9/30\n",
            "60000/60000 [==============================] - 5s 81us/step - loss: 0.2440 - acc: 0.9087 - val_loss: 0.3509 - val_acc: 0.8849\n",
            "Epoch 10/30\n",
            "60000/60000 [==============================] - 5s 81us/step - loss: 0.2335 - acc: 0.9134 - val_loss: 0.3637 - val_acc: 0.8835\n",
            "Epoch 11/30\n",
            "60000/60000 [==============================] - 5s 81us/step - loss: 0.2256 - acc: 0.9150 - val_loss: 0.3724 - val_acc: 0.8878\n",
            "Epoch 12/30\n",
            "60000/60000 [==============================] - 5s 81us/step - loss: 0.2201 - acc: 0.9192 - val_loss: 0.3808 - val_acc: 0.8854\n",
            "Epoch 13/30\n",
            "60000/60000 [==============================] - 5s 80us/step - loss: 0.2136 - acc: 0.9206 - val_loss: 0.4002 - val_acc: 0.8744\n",
            "Epoch 14/30\n",
            "60000/60000 [==============================] - 5s 81us/step - loss: 0.2071 - acc: 0.9220 - val_loss: 0.4048 - val_acc: 0.8888\n",
            "Epoch 15/30\n",
            "60000/60000 [==============================] - 5s 80us/step - loss: 0.2010 - acc: 0.9253 - val_loss: 0.3918 - val_acc: 0.8895\n",
            "Epoch 16/30\n",
            "60000/60000 [==============================] - 5s 81us/step - loss: 0.1973 - acc: 0.9260 - val_loss: 0.3792 - val_acc: 0.8913\n",
            "Epoch 17/30\n",
            "60000/60000 [==============================] - 5s 81us/step - loss: 0.1917 - acc: 0.9288 - val_loss: 0.4082 - val_acc: 0.8892\n",
            "Epoch 18/30\n",
            "60000/60000 [==============================] - 5s 81us/step - loss: 0.1860 - acc: 0.9310 - val_loss: 0.4496 - val_acc: 0.8869\n",
            "Epoch 19/30\n",
            "60000/60000 [==============================] - 5s 80us/step - loss: 0.1884 - acc: 0.9305 - val_loss: 0.4157 - val_acc: 0.8894\n",
            "Epoch 20/30\n",
            "60000/60000 [==============================] - 5s 79us/step - loss: 0.1807 - acc: 0.9334 - val_loss: 0.4020 - val_acc: 0.8925\n",
            "Epoch 21/30\n",
            "60000/60000 [==============================] - 5s 81us/step - loss: 0.1797 - acc: 0.9343 - val_loss: 0.4371 - val_acc: 0.8847\n",
            "Epoch 22/30\n",
            "60000/60000 [==============================] - 5s 81us/step - loss: 0.1725 - acc: 0.9350 - val_loss: 0.4344 - val_acc: 0.8881\n",
            "Epoch 23/30\n",
            "60000/60000 [==============================] - 5s 80us/step - loss: 0.1718 - acc: 0.9363 - val_loss: 0.4518 - val_acc: 0.8931\n",
            "Epoch 24/30\n",
            "60000/60000 [==============================] - 5s 80us/step - loss: 0.1689 - acc: 0.9373 - val_loss: 0.4251 - val_acc: 0.8955\n",
            "Epoch 25/30\n",
            "60000/60000 [==============================] - 5s 81us/step - loss: 0.1658 - acc: 0.9384 - val_loss: 0.4615 - val_acc: 0.8910\n",
            "Epoch 26/30\n",
            "60000/60000 [==============================] - 5s 80us/step - loss: 0.1635 - acc: 0.9401 - val_loss: 0.4585 - val_acc: 0.8865\n",
            "Epoch 27/30\n",
            "60000/60000 [==============================] - 5s 80us/step - loss: 0.1606 - acc: 0.9410 - val_loss: 0.5078 - val_acc: 0.8869\n",
            "Epoch 28/30\n",
            "60000/60000 [==============================] - 5s 80us/step - loss: 0.1596 - acc: 0.9416 - val_loss: 0.5437 - val_acc: 0.8825\n",
            "Epoch 29/30\n",
            "60000/60000 [==============================] - 5s 80us/step - loss: 0.1579 - acc: 0.9427 - val_loss: 0.4970 - val_acc: 0.8892\n",
            "Epoch 30/30\n",
            "60000/60000 [==============================] - 5s 80us/step - loss: 0.1600 - acc: 0.9437 - val_loss: 0.5192 - val_acc: 0.8919\n",
            "Test loss: 0.5191870986670256\n",
            "Test accuracy: 0.8919\n"
          ],
          "name": "stdout"
        }
      ]
    },
    {
      "cell_type": "code",
      "metadata": {
        "id": "0H6W9CKjje_p",
        "colab_type": "code",
        "colab": {}
      },
      "source": [
        "from keras import optimizers\n",
        "sgd=keras.optimizers.SGD(lr=0.01, momentum=0.0, nesterov=False)"
      ],
      "execution_count": 0,
      "outputs": []
    },
    {
      "cell_type": "code",
      "metadata": {
        "id": "qZ417fQGjlq0",
        "colab_type": "code",
        "outputId": "ce1e9fc7-e788-4cf5-d513-29ffcea01ece",
        "colab": {
          "base_uri": "https://localhost:8080/",
          "height": 436
        }
      },
      "source": [
        "# Compile model using above optimizer\n",
        "model.compile(optimizer=sgd,\n",
        "              loss='categorical_crossentropy',\n",
        "              metrics=['accuracy'])\n",
        "\n",
        "# Train model\n",
        "model.fit(X_train, y_train,\n",
        "          batch_size=BATCH_SIZE,\n",
        "          epochs=EPOCHS,\n",
        "          verbose=1,\n",
        "          validation_data=(X_test, y_test))\n",
        "\n",
        "score = model.evaluate(X_test, y_test, verbose=0)\n",
        "print('Test loss:', score[0])\n",
        "print('Test accuracy:', score[1])"
      ],
      "execution_count": 0,
      "outputs": [
        {
          "output_type": "stream",
          "text": [
            "Train on 60000 samples, validate on 10000 samples\n",
            "Epoch 1/10\n",
            "60000/60000 [==============================] - 5s 79us/step - loss: 0.1871 - acc: 0.9294 - val_loss: 0.3331 - val_acc: 0.8932\n",
            "Epoch 2/10\n",
            "60000/60000 [==============================] - 5s 76us/step - loss: 0.1777 - acc: 0.9327 - val_loss: 0.3274 - val_acc: 0.8946\n",
            "Epoch 3/10\n",
            "60000/60000 [==============================] - 5s 78us/step - loss: 0.1744 - acc: 0.9336 - val_loss: 0.3277 - val_acc: 0.8957\n",
            "Epoch 4/10\n",
            "60000/60000 [==============================] - 5s 78us/step - loss: 0.1717 - acc: 0.9345 - val_loss: 0.3264 - val_acc: 0.8973\n",
            "Epoch 5/10\n",
            "60000/60000 [==============================] - 5s 79us/step - loss: 0.1696 - acc: 0.9361 - val_loss: 0.3280 - val_acc: 0.8955\n",
            "Epoch 6/10\n",
            "60000/60000 [==============================] - 5s 80us/step - loss: 0.1681 - acc: 0.9357 - val_loss: 0.3278 - val_acc: 0.8959\n",
            "Epoch 7/10\n",
            "60000/60000 [==============================] - 5s 79us/step - loss: 0.1667 - acc: 0.9366 - val_loss: 0.3260 - val_acc: 0.8976\n",
            "Epoch 8/10\n",
            "60000/60000 [==============================] - 5s 79us/step - loss: 0.1655 - acc: 0.9375 - val_loss: 0.3301 - val_acc: 0.8976\n",
            "Epoch 9/10\n",
            "60000/60000 [==============================] - 5s 78us/step - loss: 0.1639 - acc: 0.9374 - val_loss: 0.3308 - val_acc: 0.8959\n",
            "Epoch 10/10\n",
            "60000/60000 [==============================] - 5s 78us/step - loss: 0.1633 - acc: 0.9373 - val_loss: 0.3255 - val_acc: 0.8997\n",
            "Test loss: 0.32551767549812793\n",
            "Test accuracy: 0.8997\n"
          ],
          "name": "stdout"
        }
      ]
    },
    {
      "cell_type": "code",
      "metadata": {
        "id": "6gloJZvzjpin",
        "colab_type": "code",
        "colab": {}
      },
      "source": [
        "from keras import optimizers\n",
        "rms=keras.optimizers.RMSprop(lr=0.001, rho=0.9)"
      ],
      "execution_count": 0,
      "outputs": []
    },
    {
      "cell_type": "code",
      "metadata": {
        "id": "Iy-HiNIskOFJ",
        "colab_type": "code",
        "outputId": "587c391b-962e-4ef2-a5af-2b0768d756b5",
        "colab": {
          "base_uri": "https://localhost:8080/",
          "height": 436
        }
      },
      "source": [
        "# Compile model using above optimizer\n",
        "model.compile(optimizer=rms,\n",
        "              loss='categorical_crossentropy',\n",
        "              metrics=['accuracy'])\n",
        "\n",
        "# Train model\n",
        "model.fit(X_train, y_train,\n",
        "          batch_size=BATCH_SIZE,\n",
        "          epochs=EPOCHS,\n",
        "          verbose=1,\n",
        "          validation_data=(X_test, y_test))\n",
        "\n",
        "score = model.evaluate(X_test, y_test, verbose=0)\n",
        "print('Test loss:', score[0])\n",
        "print('Test accuracy:', score[1])"
      ],
      "execution_count": 0,
      "outputs": [
        {
          "output_type": "stream",
          "text": [
            "Train on 60000 samples, validate on 10000 samples\n",
            "Epoch 1/10\n",
            "60000/60000 [==============================] - 6s 94us/step - loss: 0.2232 - acc: 0.9171 - val_loss: 0.3798 - val_acc: 0.8837\n",
            "Epoch 2/10\n",
            "60000/60000 [==============================] - 6s 92us/step - loss: 0.2175 - acc: 0.9194 - val_loss: 0.3921 - val_acc: 0.8876\n",
            "Epoch 3/10\n",
            "60000/60000 [==============================] - 5s 91us/step - loss: 0.2110 - acc: 0.9231 - val_loss: 0.3983 - val_acc: 0.8900\n",
            "Epoch 4/10\n",
            "60000/60000 [==============================] - 5s 89us/step - loss: 0.2068 - acc: 0.9246 - val_loss: 0.4130 - val_acc: 0.8832\n",
            "Epoch 5/10\n",
            "60000/60000 [==============================] - 5s 90us/step - loss: 0.2014 - acc: 0.9258 - val_loss: 0.4562 - val_acc: 0.8804\n",
            "Epoch 6/10\n",
            "60000/60000 [==============================] - 5s 88us/step - loss: 0.2002 - acc: 0.9261 - val_loss: 0.4049 - val_acc: 0.8880\n",
            "Epoch 7/10\n",
            "60000/60000 [==============================] - 5s 89us/step - loss: 0.1941 - acc: 0.9277 - val_loss: 0.4272 - val_acc: 0.8878\n",
            "Epoch 8/10\n",
            "60000/60000 [==============================] - 5s 89us/step - loss: 0.1917 - acc: 0.9287 - val_loss: 0.4967 - val_acc: 0.8575\n",
            "Epoch 9/10\n",
            "60000/60000 [==============================] - 5s 90us/step - loss: 0.1871 - acc: 0.9315 - val_loss: 0.4925 - val_acc: 0.8850\n",
            "Epoch 10/10\n",
            "60000/60000 [==============================] - 5s 90us/step - loss: 0.1850 - acc: 0.9315 - val_loss: 0.5094 - val_acc: 0.8664\n",
            "Test loss: 0.5094234839558601\n",
            "Test accuracy: 0.8664\n"
          ],
          "name": "stdout"
        }
      ]
    },
    {
      "cell_type": "code",
      "metadata": {
        "id": "LHkwrrtGj2qe",
        "colab_type": "code",
        "colab": {}
      },
      "source": [
        "from keras import optimizers\n",
        "ada=keras.optimizers.Adagrad(lr=0.01)\n"
      ],
      "execution_count": 0,
      "outputs": []
    },
    {
      "cell_type": "code",
      "metadata": {
        "id": "3ydLvIrKj6e-",
        "colab_type": "code",
        "outputId": "df7e5c09-d9fe-4345-cfd6-e83c139e09b6",
        "colab": {
          "base_uri": "https://localhost:8080/",
          "height": 1000
        }
      },
      "source": [
        "# Compile model using above optimizer\n",
        "model.compile(optimizer=ada,\n",
        "              loss='categorical_crossentropy',\n",
        "              metrics=['accuracy'])\n",
        "\n",
        "# Train model\n",
        "model.fit(X_train, y_train,\n",
        "          batch_size=BATCH_SIZE,\n",
        "          epochs=EPOCHS,\n",
        "          verbose=1,\n",
        "          validation_data=(X_test, y_test))\n",
        "\n",
        "score = model.evaluate(X_test, y_test, verbose=0)\n",
        "print('Test loss:', score[0])\n",
        "print('Test accuracy:', score[1])"
      ],
      "execution_count": 0,
      "outputs": [
        {
          "output_type": "stream",
          "text": [
            "Train on 60000 samples, validate on 10000 samples\n",
            "Epoch 1/30\n",
            "60000/60000 [==============================] - 5s 86us/step - loss: 1.0954 - acc: 0.8892 - val_loss: 0.4447 - val_acc: 0.8987\n",
            "Epoch 2/30\n",
            "60000/60000 [==============================] - 5s 78us/step - loss: 0.1134 - acc: 0.9568 - val_loss: 0.4550 - val_acc: 0.8993\n",
            "Epoch 3/30\n",
            "60000/60000 [==============================] - 5s 78us/step - loss: 0.0977 - acc: 0.9627 - val_loss: 0.4655 - val_acc: 0.9007\n",
            "Epoch 4/30\n",
            "60000/60000 [==============================] - 5s 77us/step - loss: 0.0907 - acc: 0.9653 - val_loss: 0.4715 - val_acc: 0.9009\n",
            "Epoch 5/30\n",
            "60000/60000 [==============================] - 5s 76us/step - loss: 0.0852 - acc: 0.9674 - val_loss: 0.4828 - val_acc: 0.9027\n",
            "Epoch 6/30\n",
            "60000/60000 [==============================] - 5s 77us/step - loss: 0.0812 - acc: 0.9692 - val_loss: 0.4893 - val_acc: 0.9000\n",
            "Epoch 7/30\n",
            "60000/60000 [==============================] - 5s 78us/step - loss: 0.0774 - acc: 0.9710 - val_loss: 0.4778 - val_acc: 0.9019\n",
            "Epoch 8/30\n",
            "60000/60000 [==============================] - 5s 77us/step - loss: 0.0745 - acc: 0.9721 - val_loss: 0.4913 - val_acc: 0.9011\n",
            "Epoch 9/30\n",
            "60000/60000 [==============================] - 5s 77us/step - loss: 0.0722 - acc: 0.9733 - val_loss: 0.4960 - val_acc: 0.9014\n",
            "Epoch 10/30\n",
            "60000/60000 [==============================] - 5s 77us/step - loss: 0.0695 - acc: 0.9738 - val_loss: 0.5073 - val_acc: 0.9015\n",
            "Epoch 11/30\n",
            "60000/60000 [==============================] - 5s 78us/step - loss: 0.0678 - acc: 0.9747 - val_loss: 0.5004 - val_acc: 0.9006\n",
            "Epoch 12/30\n",
            "60000/60000 [==============================] - 5s 76us/step - loss: 0.0658 - acc: 0.9755 - val_loss: 0.5089 - val_acc: 0.9022\n",
            "Epoch 13/30\n",
            "60000/60000 [==============================] - 5s 77us/step - loss: 0.0639 - acc: 0.9764 - val_loss: 0.5170 - val_acc: 0.9036\n",
            "Epoch 14/30\n",
            "60000/60000 [==============================] - 5s 76us/step - loss: 0.0621 - acc: 0.9766 - val_loss: 0.5166 - val_acc: 0.9016\n",
            "Epoch 15/30\n",
            "60000/60000 [==============================] - 5s 76us/step - loss: 0.0601 - acc: 0.9780 - val_loss: 0.5277 - val_acc: 0.9006\n",
            "Epoch 16/30\n",
            "60000/60000 [==============================] - 5s 76us/step - loss: 0.0590 - acc: 0.9787 - val_loss: 0.5159 - val_acc: 0.9013\n",
            "Epoch 17/30\n",
            "60000/60000 [==============================] - 5s 76us/step - loss: 0.0574 - acc: 0.9794 - val_loss: 0.5282 - val_acc: 0.9000\n",
            "Epoch 18/30\n",
            "60000/60000 [==============================] - 5s 77us/step - loss: 0.0560 - acc: 0.9798 - val_loss: 0.5236 - val_acc: 0.9010\n",
            "Epoch 19/30\n",
            "60000/60000 [==============================] - 5s 76us/step - loss: 0.0546 - acc: 0.9807 - val_loss: 0.5265 - val_acc: 0.9015\n",
            "Epoch 20/30\n",
            "60000/60000 [==============================] - 5s 77us/step - loss: 0.0529 - acc: 0.9814 - val_loss: 0.5368 - val_acc: 0.9018\n",
            "Epoch 21/30\n",
            "60000/60000 [==============================] - 5s 76us/step - loss: 0.0520 - acc: 0.9813 - val_loss: 0.5305 - val_acc: 0.9022\n",
            "Epoch 22/30\n",
            "60000/60000 [==============================] - 5s 77us/step - loss: 0.0507 - acc: 0.9824 - val_loss: 0.5419 - val_acc: 0.8999\n",
            "Epoch 23/30\n",
            "60000/60000 [==============================] - 5s 78us/step - loss: 0.0494 - acc: 0.9831 - val_loss: 0.5374 - val_acc: 0.8996\n",
            "Epoch 24/30\n",
            "60000/60000 [==============================] - 5s 76us/step - loss: 0.0482 - acc: 0.9838 - val_loss: 0.5530 - val_acc: 0.8983\n",
            "Epoch 25/30\n",
            "60000/60000 [==============================] - 5s 77us/step - loss: 0.0475 - acc: 0.9838 - val_loss: 0.5471 - val_acc: 0.9010\n",
            "Epoch 26/30\n",
            "60000/60000 [==============================] - 5s 77us/step - loss: 0.0462 - acc: 0.9844 - val_loss: 0.5470 - val_acc: 0.9013\n",
            "Epoch 27/30\n",
            "60000/60000 [==============================] - 5s 77us/step - loss: 0.0451 - acc: 0.9849 - val_loss: 0.5612 - val_acc: 0.9004\n",
            "Epoch 28/30\n",
            "60000/60000 [==============================] - 5s 76us/step - loss: 0.0442 - acc: 0.9850 - val_loss: 0.5495 - val_acc: 0.8998\n",
            "Epoch 29/30\n",
            "60000/60000 [==============================] - 5s 77us/step - loss: 0.0431 - acc: 0.9858 - val_loss: 0.5641 - val_acc: 0.8996\n",
            "Epoch 30/30\n",
            "60000/60000 [==============================] - 5s 78us/step - loss: 0.0422 - acc: 0.9860 - val_loss: 0.5591 - val_acc: 0.9008\n",
            "Test loss: 0.5591169762227685\n",
            "Test accuracy: 0.9008\n"
          ],
          "name": "stdout"
        }
      ]
    },
    {
      "cell_type": "code",
      "metadata": {
        "id": "SXSnFXfbkXrz",
        "colab_type": "code",
        "colab": {}
      },
      "source": [
        "from keras import optimizers\n",
        "adelta=keras.optimizers.Adadelta(lr=1.0, rho=0.95)\n"
      ],
      "execution_count": 0,
      "outputs": []
    },
    {
      "cell_type": "code",
      "metadata": {
        "id": "YnjWXhv_kaCG",
        "colab_type": "code",
        "outputId": "a71b9f08-af7b-4311-8468-fb65a83b4622",
        "colab": {
          "base_uri": "https://localhost:8080/",
          "height": 436
        }
      },
      "source": [
        "# Compile model using above optimizer\n",
        "model.compile(optimizer=adelta,\n",
        "              loss='categorical_crossentropy',\n",
        "              metrics=['accuracy'])\n",
        "\n",
        "# Train model\n",
        "model.fit(X_train, y_train,\n",
        "          batch_size=BATCH_SIZE,\n",
        "          epochs=EPOCHS,\n",
        "          verbose=1,\n",
        "          validation_data=(X_test, y_test))\n",
        "\n",
        "score = model.evaluate(X_test, y_test, verbose=0)\n",
        "print('Test loss:', score[0])\n",
        "print('Test accuracy:', score[1])"
      ],
      "execution_count": 0,
      "outputs": [
        {
          "output_type": "stream",
          "text": [
            "Train on 60000 samples, validate on 10000 samples\n",
            "Epoch 1/10\n",
            "60000/60000 [==============================] - 7s 114us/step - loss: 0.1448 - acc: 0.9439 - val_loss: 0.4420 - val_acc: 0.8981\n",
            "Epoch 2/10\n",
            "60000/60000 [==============================] - 7s 110us/step - loss: 0.1346 - acc: 0.9480 - val_loss: 0.5143 - val_acc: 0.8786\n",
            "Epoch 3/10\n",
            "60000/60000 [==============================] - 7s 109us/step - loss: 0.1286 - acc: 0.9508 - val_loss: 0.4380 - val_acc: 0.8946\n",
            "Epoch 4/10\n",
            "60000/60000 [==============================] - 7s 110us/step - loss: 0.1240 - acc: 0.9522 - val_loss: 0.5067 - val_acc: 0.8915\n",
            "Epoch 5/10\n",
            "60000/60000 [==============================] - 6s 108us/step - loss: 0.1213 - acc: 0.9541 - val_loss: 0.4647 - val_acc: 0.8990\n",
            "Epoch 6/10\n",
            "60000/60000 [==============================] - 7s 109us/step - loss: 0.1171 - acc: 0.9555 - val_loss: 0.4499 - val_acc: 0.8992\n",
            "Epoch 7/10\n",
            "60000/60000 [==============================] - 6s 108us/step - loss: 0.1155 - acc: 0.9545 - val_loss: 0.5097 - val_acc: 0.8933\n",
            "Epoch 8/10\n",
            "60000/60000 [==============================] - 6s 107us/step - loss: 0.1116 - acc: 0.9566 - val_loss: 0.4723 - val_acc: 0.8977\n",
            "Epoch 9/10\n",
            "60000/60000 [==============================] - 6s 107us/step - loss: 0.1090 - acc: 0.9576 - val_loss: 0.4927 - val_acc: 0.8959\n",
            "Epoch 10/10\n",
            "60000/60000 [==============================] - 6s 107us/step - loss: 0.1071 - acc: 0.9587 - val_loss: 0.4959 - val_acc: 0.8962\n",
            "Test loss: 0.49592679820172486\n",
            "Test accuracy: 0.8962\n"
          ],
          "name": "stdout"
        }
      ]
    },
    {
      "cell_type": "code",
      "metadata": {
        "id": "5SX_pu4HkbqR",
        "colab_type": "code",
        "colab": {}
      },
      "source": [
        "from keras import optimizers\n",
        "adam=keras.optimizers.Adam(lr=0.001, beta_1=0.9, beta_2=0.999, amsgrad=False)"
      ],
      "execution_count": 0,
      "outputs": []
    },
    {
      "cell_type": "code",
      "metadata": {
        "id": "wXKL1NC5keoM",
        "colab_type": "code",
        "outputId": "57ced439-96f2-4c67-f12a-7d208786a860",
        "colab": {
          "base_uri": "https://localhost:8080/",
          "height": 436
        }
      },
      "source": [
        "# Compile model using above optimizer\n",
        "model.compile(optimizer=adam,\n",
        "              loss='categorical_crossentropy',\n",
        "              metrics=['accuracy'])\n",
        "\n",
        "# Train model\n",
        "model.fit(X_train, y_train,\n",
        "          batch_size=BATCH_SIZE,\n",
        "          epochs=EPOCHS,\n",
        "          verbose=1,\n",
        "          validation_data=(X_test, y_test))\n",
        "\n",
        "score = model.evaluate(X_test, y_test, verbose=0)\n",
        "print('Test loss:', score[0])\n",
        "print('Test accuracy:', score[1])"
      ],
      "execution_count": 0,
      "outputs": [
        {
          "output_type": "stream",
          "text": [
            "Train on 60000 samples, validate on 10000 samples\n",
            "Epoch 1/10\n",
            "60000/60000 [==============================] - 6s 106us/step - loss: 0.1540 - acc: 0.9440 - val_loss: 0.4584 - val_acc: 0.8926\n",
            "Epoch 2/10\n",
            "60000/60000 [==============================] - 6s 101us/step - loss: 0.1395 - acc: 0.9486 - val_loss: 0.4675 - val_acc: 0.8972\n",
            "Epoch 3/10\n",
            "60000/60000 [==============================] - 6s 96us/step - loss: 0.1371 - acc: 0.9486 - val_loss: 0.4361 - val_acc: 0.8925\n",
            "Epoch 4/10\n",
            "60000/60000 [==============================] - 6s 97us/step - loss: 0.1289 - acc: 0.9518 - val_loss: 0.4412 - val_acc: 0.8956\n",
            "Epoch 5/10\n",
            "60000/60000 [==============================] - 6s 97us/step - loss: 0.1368 - acc: 0.9501 - val_loss: 0.4194 - val_acc: 0.8957\n",
            "Epoch 6/10\n",
            "60000/60000 [==============================] - 6s 101us/step - loss: 0.1241 - acc: 0.9530 - val_loss: 0.4556 - val_acc: 0.8882\n",
            "Epoch 7/10\n",
            "60000/60000 [==============================] - 6s 95us/step - loss: 0.1189 - acc: 0.9547 - val_loss: 0.4394 - val_acc: 0.8913\n",
            "Epoch 8/10\n",
            "60000/60000 [==============================] - 6s 96us/step - loss: 0.1113 - acc: 0.9577 - val_loss: 0.4650 - val_acc: 0.8929\n",
            "Epoch 9/10\n",
            "60000/60000 [==============================] - 6s 95us/step - loss: 0.1106 - acc: 0.9580 - val_loss: 0.4598 - val_acc: 0.8977\n",
            "Epoch 10/10\n",
            "60000/60000 [==============================] - 6s 92us/step - loss: 0.1110 - acc: 0.9582 - val_loss: 0.4656 - val_acc: 0.8970\n",
            "Test loss: 0.4656123359799385\n",
            "Test accuracy: 0.897\n"
          ],
          "name": "stdout"
        }
      ]
    },
    {
      "cell_type": "code",
      "metadata": {
        "id": "0_TsWywPkijZ",
        "colab_type": "code",
        "colab": {}
      },
      "source": [
        "from keras import optimizers\n",
        "adamax=keras.optimizers.Adamax(lr=0.002, beta_1=0.9, beta_2=0.999)\n"
      ],
      "execution_count": 0,
      "outputs": []
    },
    {
      "cell_type": "code",
      "metadata": {
        "id": "5zuUvkHVkmBp",
        "colab_type": "code",
        "outputId": "fb08eda6-6eb0-46be-e6c7-6dd48910e145",
        "colab": {
          "base_uri": "https://localhost:8080/",
          "height": 436
        }
      },
      "source": [
        "# Compile model using above optimizer\n",
        "model.compile(optimizer=adamax,\n",
        "              loss='categorical_crossentropy',\n",
        "              metrics=['accuracy'])\n",
        "\n",
        "# Train model\n",
        "model.fit(X_train, y_train,\n",
        "          batch_size=BATCH_SIZE,\n",
        "          epochs=EPOCHS,\n",
        "          verbose=1,\n",
        "          validation_data=(X_test, y_test))\n",
        "\n",
        "score = model.evaluate(X_test, y_test, verbose=0)\n",
        "print('Test loss:', score[0])\n",
        "print('Test accuracy:', score[1])"
      ],
      "execution_count": 0,
      "outputs": [
        {
          "output_type": "stream",
          "text": [
            "Train on 60000 samples, validate on 10000 samples\n",
            "Epoch 1/10\n",
            "60000/60000 [==============================] - 5s 89us/step - loss: 0.0818 - acc: 0.9691 - val_loss: 0.4790 - val_acc: 0.9006\n",
            "Epoch 2/10\n",
            "60000/60000 [==============================] - 5s 83us/step - loss: 0.0674 - acc: 0.9743 - val_loss: 0.4979 - val_acc: 0.8981\n",
            "Epoch 3/10\n",
            "60000/60000 [==============================] - 5s 84us/step - loss: 0.0642 - acc: 0.9745 - val_loss: 0.5092 - val_acc: 0.9036\n",
            "Epoch 4/10\n",
            "60000/60000 [==============================] - 5s 82us/step - loss: 0.0610 - acc: 0.9760 - val_loss: 0.5154 - val_acc: 0.8998\n",
            "Epoch 5/10\n",
            "60000/60000 [==============================] - 5s 84us/step - loss: 0.0586 - acc: 0.9781 - val_loss: 0.5160 - val_acc: 0.9031\n",
            "Epoch 6/10\n",
            "60000/60000 [==============================] - 5s 83us/step - loss: 0.0557 - acc: 0.9789 - val_loss: 0.5174 - val_acc: 0.9016\n",
            "Epoch 7/10\n",
            "60000/60000 [==============================] - 5s 84us/step - loss: 0.0544 - acc: 0.9792 - val_loss: 0.5505 - val_acc: 0.8998\n",
            "Epoch 8/10\n",
            "60000/60000 [==============================] - 5s 84us/step - loss: 0.0515 - acc: 0.9802 - val_loss: 0.5451 - val_acc: 0.9026\n",
            "Epoch 9/10\n",
            "60000/60000 [==============================] - 5s 84us/step - loss: 0.0489 - acc: 0.9816 - val_loss: 0.5463 - val_acc: 0.9029\n",
            "Epoch 10/10\n",
            "60000/60000 [==============================] - 5s 83us/step - loss: 0.0469 - acc: 0.9822 - val_loss: 0.5593 - val_acc: 0.9023\n",
            "Test loss: 0.5593132752241101\n",
            "Test accuracy: 0.9023\n"
          ],
          "name": "stdout"
        }
      ]
    },
    {
      "cell_type": "code",
      "metadata": {
        "id": "uaXvYo9skrmW",
        "colab_type": "code",
        "colab": {}
      },
      "source": [
        "from keras import optimizers\n",
        "nadam=keras.optimizers.Nadam(lr=0.002, beta_1=0.9, beta_2=0.999)"
      ],
      "execution_count": 0,
      "outputs": []
    },
    {
      "cell_type": "code",
      "metadata": {
        "id": "06Ujuegakvtk",
        "colab_type": "code",
        "outputId": "33acd731-bcaf-4d62-9108-870f42f7bf89",
        "colab": {
          "base_uri": "https://localhost:8080/",
          "height": 436
        }
      },
      "source": [
        "# Compile model using above optimizer\n",
        "model.compile(optimizer=nadam,\n",
        "              loss='categorical_crossentropy',\n",
        "              metrics=['accuracy'])\n",
        "\n",
        "# Train model\n",
        "model.fit(X_train, y_train,\n",
        "          batch_size=BATCH_SIZE,\n",
        "          epochs=EPOCHS,\n",
        "          verbose=1,\n",
        "          validation_data=(X_test, y_test))\n",
        "\n",
        "score = model.evaluate(X_test, y_test, verbose=0)\n",
        "print('Test loss:', score[0])\n",
        "print('Test accuracy:', score[1])"
      ],
      "execution_count": 0,
      "outputs": [
        {
          "output_type": "stream",
          "text": [
            "Train on 60000 samples, validate on 10000 samples\n",
            "Epoch 1/10\n",
            "60000/60000 [==============================] - 7s 112us/step - loss: 0.1243 - acc: 0.9560 - val_loss: 0.5815 - val_acc: 0.8881\n",
            "Epoch 2/10\n",
            "60000/60000 [==============================] - 6s 104us/step - loss: 0.1241 - acc: 0.9554 - val_loss: 0.4954 - val_acc: 0.8867\n",
            "Epoch 3/10\n",
            "60000/60000 [==============================] - 6s 103us/step - loss: 0.1193 - acc: 0.9573 - val_loss: 0.5131 - val_acc: 0.8909\n",
            "Epoch 4/10\n",
            "60000/60000 [==============================] - 6s 103us/step - loss: 0.1065 - acc: 0.9614 - val_loss: 0.5370 - val_acc: 0.8939\n",
            "Epoch 5/10\n",
            "60000/60000 [==============================] - 6s 104us/step - loss: 0.0975 - acc: 0.9624 - val_loss: 0.5336 - val_acc: 0.8870\n",
            "Epoch 6/10\n",
            "60000/60000 [==============================] - 6s 104us/step - loss: 0.1008 - acc: 0.9618 - val_loss: 0.4873 - val_acc: 0.8961\n",
            "Epoch 7/10\n",
            "60000/60000 [==============================] - 6s 103us/step - loss: 0.0945 - acc: 0.9647 - val_loss: 0.5167 - val_acc: 0.8900\n",
            "Epoch 8/10\n",
            "60000/60000 [==============================] - 6s 103us/step - loss: 0.1021 - acc: 0.9624 - val_loss: 0.5099 - val_acc: 0.8940\n",
            "Epoch 9/10\n",
            "60000/60000 [==============================] - 6s 103us/step - loss: 0.1000 - acc: 0.9628 - val_loss: 0.5375 - val_acc: 0.8906\n",
            "Epoch 10/10\n",
            "60000/60000 [==============================] - 6s 102us/step - loss: 0.1001 - acc: 0.9631 - val_loss: 0.5124 - val_acc: 0.8928\n",
            "Test loss: 0.5124222384929658\n",
            "Test accuracy: 0.8928\n"
          ],
          "name": "stdout"
        }
      ]
    },
    {
      "cell_type": "code",
      "metadata": {
        "id": "p32hU2G-kxxD",
        "colab_type": "code",
        "outputId": "0dd66652-0730-43ae-e74a-94788c7f3672",
        "colab": {
          "base_uri": "https://localhost:8080/",
          "height": 52
        }
      },
      "source": [
        "score = model.evaluate(X_test, y_test, verbose=0)\n",
        "print('Test loss:', score[0])\n",
        "print('Test accuracy:', score[1])"
      ],
      "execution_count": 0,
      "outputs": [
        {
          "output_type": "stream",
          "text": [
            "Test loss: 0.4464198113840073\n",
            "Test accuracy: 0.892\n"
          ],
          "name": "stdout"
        }
      ]
    },
    {
      "cell_type": "code",
      "metadata": {
        "id": "ji97eQahk1Wi",
        "colab_type": "code",
        "colab": {}
      },
      "source": [
        "adamax=keras.optimizers.Adamax(lr=0.002, beta_1=0.9, beta_2=0.999)\n"
      ],
      "execution_count": 0,
      "outputs": []
    },
    {
      "cell_type": "code",
      "metadata": {
        "id": "hCsoKORhk4LM",
        "colab_type": "code",
        "colab": {}
      },
      "source": [
        "model.compile(optimizer=adamax,\n",
        "              loss='categorical_crossentropy',\n",
        "              metrics=['accuracy'])\n"
      ],
      "execution_count": 0,
      "outputs": []
    },
    {
      "cell_type": "code",
      "metadata": {
        "id": "JBnZECTAk6b_",
        "colab_type": "code",
        "outputId": "f69654e4-1002-4b3b-a075-8e4259a3de24",
        "colab": {
          "base_uri": "https://localhost:8080/",
          "height": 401
        }
      },
      "source": [
        "history=model.fit(X_train, y_train,\n",
        "          batch_size=BATCH_SIZE,\n",
        "          epochs=EPOCHS,\n",
        "          verbose=1,\n",
        "          validation_data=(X_test, y_test))"
      ],
      "execution_count": 0,
      "outputs": [
        {
          "output_type": "stream",
          "text": [
            "Train on 60000 samples, validate on 10000 samples\n",
            "Epoch 1/10\n",
            "60000/60000 [==============================] - 6s 94us/step - loss: 0.0672 - acc: 0.9748 - val_loss: 0.4783 - val_acc: 0.9018\n",
            "Epoch 2/10\n",
            "60000/60000 [==============================] - 5s 86us/step - loss: 0.0534 - acc: 0.9806 - val_loss: 0.4973 - val_acc: 0.9031\n",
            "Epoch 3/10\n",
            "60000/60000 [==============================] - 5s 86us/step - loss: 0.0497 - acc: 0.9811 - val_loss: 0.4983 - val_acc: 0.9029\n",
            "Epoch 4/10\n",
            "60000/60000 [==============================] - 5s 86us/step - loss: 0.0462 - acc: 0.9829 - val_loss: 0.5257 - val_acc: 0.9024\n",
            "Epoch 5/10\n",
            "60000/60000 [==============================] - 5s 86us/step - loss: 0.0435 - acc: 0.9839 - val_loss: 0.5262 - val_acc: 0.9056\n",
            "Epoch 6/10\n",
            "60000/60000 [==============================] - 5s 88us/step - loss: 0.0407 - acc: 0.9852 - val_loss: 0.5342 - val_acc: 0.9065\n",
            "Epoch 7/10\n",
            "60000/60000 [==============================] - 5s 87us/step - loss: 0.0391 - acc: 0.9853 - val_loss: 0.5623 - val_acc: 0.9026\n",
            "Epoch 8/10\n",
            "60000/60000 [==============================] - 5s 85us/step - loss: 0.0371 - acc: 0.9860 - val_loss: 0.5553 - val_acc: 0.9034\n",
            "Epoch 9/10\n",
            "60000/60000 [==============================] - 5s 87us/step - loss: 0.0346 - acc: 0.9872 - val_loss: 0.5731 - val_acc: 0.9027\n",
            "Epoch 10/10\n",
            "60000/60000 [==============================] - 5s 86us/step - loss: 0.0333 - acc: 0.9882 - val_loss: 0.5780 - val_acc: 0.9007\n"
          ],
          "name": "stdout"
        }
      ]
    },
    {
      "cell_type": "code",
      "metadata": {
        "id": "7RrYfoQIk8Gx",
        "colab_type": "code",
        "outputId": "137fa4e7-e689-4c04-e63b-e7ad7c7a5b6d",
        "colab": {
          "base_uri": "https://localhost:8080/",
          "height": 52
        }
      },
      "source": [
        "score = model.evaluate(X_test, y_test, verbose=0)\n",
        "print('Test loss:', score[0])\n",
        "print('Test accuracy:', score[1])"
      ],
      "execution_count": 0,
      "outputs": [
        {
          "output_type": "stream",
          "text": [
            "Test loss: 0.5780422768231946\n",
            "Test accuracy: 0.9007\n"
          ],
          "name": "stdout"
        }
      ]
    },
    {
      "cell_type": "code",
      "metadata": {
        "id": "1cx-oQ4Vk-ce",
        "colab_type": "code",
        "outputId": "e00d6f45-f186-482d-d8cb-46b7396aaed3",
        "colab": {
          "base_uri": "https://localhost:8080/",
          "height": 260
        }
      },
      "source": [
        "model.summary()"
      ],
      "execution_count": 0,
      "outputs": [
        {
          "output_type": "stream",
          "text": [
            "Model: \"sequential_1\"\n",
            "_________________________________________________________________\n",
            "Layer (type)                 Output Shape              Param #   \n",
            "=================================================================\n",
            "dense_1 (Dense)              (None, 512)               401920    \n",
            "_________________________________________________________________\n",
            "dense_2 (Dense)              (None, 256)               131328    \n",
            "_________________________________________________________________\n",
            "dense_3 (Dense)              (None, 10)                2570      \n",
            "=================================================================\n",
            "Total params: 535,818\n",
            "Trainable params: 535,818\n",
            "Non-trainable params: 0\n",
            "_________________________________________________________________\n"
          ],
          "name": "stdout"
        }
      ]
    },
    {
      "cell_type": "code",
      "metadata": {
        "id": "Oj58xWQ3lAI3",
        "colab_type": "code",
        "outputId": "addbf9bd-7971-42b7-d2ff-427f41b5d952",
        "colab": {
          "base_uri": "https://localhost:8080/",
          "height": 573
        }
      },
      "source": [
        "import matplotlib.pyplot as plt\n",
        "plt.plot(history.history['acc'])\n",
        "plt.plot(history.history['val_acc'])\n",
        "plt.title('Model accuracy')\n",
        "plt.ylabel('Accuracy')\n",
        "plt.xlabel('Epoch')\n",
        "plt.legend(['Train', 'Test'], loc='upper left')\n",
        "plt.show()\n",
        "\n",
        "\n",
        "plt.plot(history.history['loss'])\n",
        "plt.plot(history.history['val_loss'])\n",
        "plt.title('Model loss')\n",
        "plt.ylabel('Loss')\n",
        "plt.xlabel('Epoch'  )\n",
        "plt.legend(['Train', 'Test'], loc='upper left')\n",
        "plt.show()"
      ],
      "execution_count": 0,
      "outputs": [
        {
          "output_type": "display_data",
          "data": {
            "image/png": "[encoded data removed]",
            "text/plain": [
              "<Figure size 432x288 with 1 Axes>"
            ]
          },
          "metadata": {
            "tags": []
          }
        },
        {
          "output_type": "display_data",
          "data": {
            "image/png": "[encoded data removed]",
            "text/plain": [
              "<Figure size 432x288 with 1 Axes>"
            ]
          },
          "metadata": {
            "tags": []
          }
        }
      ]
    },
    {
      "cell_type": "code",
      "metadata": {
        "id": "DSUOTXwIlE0m",
        "colab_type": "code",
        "outputId": "29c557ab-c19d-4b94-b137-4d01033cb0c7",
        "colab": {
          "base_uri": "https://localhost:8080/",
          "height": 369
        }
      },
      "source": [
        "from keras.utils import plot_model\n",
        "plot_model(model , to_file= 'model.png')"
      ],
      "execution_count": 0,
      "outputs": [
        {
          "output_type": "execute_result",
          "data": {
            "image/png": "[encoded data removed]",
            "text/plain": [
              "<IPython.core.display.Image object>"
            ]
          },
          "metadata": {
            "tags": []
          },
          "execution_count": 49
        }
      ]
    },
    {
      "cell_type": "code",
      "metadata": {
        "id": "3jbkGq9usydl",
        "colab_type": "code",
        "colab": {}
      },
      "source": [
        ""
      ],
      "execution_count": 0,
      "outputs": []
    }
  ]
}